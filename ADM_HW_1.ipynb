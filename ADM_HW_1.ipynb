{
  "nbformat": 4,
  "nbformat_minor": 0,
  "metadata": {
    "colab": {
      "provenance": [],
      "authorship_tag": "ABX9TyNfvpYUGgK2gBQuz26Mimw1",
      "include_colab_link": true
    },
    "kernelspec": {
      "name": "python3",
      "display_name": "Python 3"
    },
    "language_info": {
      "name": "python"
    }
  },
  "cells": [
    {
      "cell_type": "markdown",
      "metadata": {
        "id": "view-in-github",
        "colab_type": "text"
      },
      "source": [
        "<a href=\"https://colab.research.google.com/github/dariotolazzi/ADM-HW-1-CODES/blob/main/ADM_HW_1.ipynb\" target=\"_parent\"><img src=\"https://colab.research.google.com/assets/colab-badge.svg\" alt=\"Open In Colab\"/></a>"
      ]
    },
    {
      "cell_type": "markdown",
      "source": [
        "Standardize Mobile Number Using Decorators"
      ],
      "metadata": {
        "id": "afk8joJ_wVBh"
      }
    },
    {
      "cell_type": "code",
      "execution_count": 5,
      "metadata": {
        "id": "qRJ06SEuwC7S"
      },
      "outputs": [],
      "source": [
        "def wrapper(f):\n",
        "    def fun(l):\n",
        "        f(\"+91 \"+digit[-10:-5]+\" \"+digit[-5:] for digit in l)\n",
        "    return fun\n"
      ]
    },
    {
      "cell_type": "markdown",
      "source": [
        "Map and Lambda Function"
      ],
      "metadata": {
        "id": "2-bpWkU1wOIB"
      }
    },
    {
      "cell_type": "code",
      "source": [
        "cube = lambda x: x**3\n",
        "\n",
        "def fibonacci(n):\n",
        "    a, b, res = 0, 1, []\n",
        "    for i in range(n):\n",
        "        res.append(a)\n",
        "        a, b = b , a+b\n",
        "\n",
        "    return res\n",
        "\n"
      ],
      "metadata": {
        "id": "4p9q1eY5wG3J"
      },
      "execution_count": null,
      "outputs": []
    },
    {
      "cell_type": "markdown",
      "source": [
        "Group(), Groups() & Groupdict()"
      ],
      "metadata": {
        "id": "9t1O_GkZwNGA"
      }
    },
    {
      "cell_type": "code",
      "source": [
        "import re\n",
        "res = re.search(r'([a-zA-Z0-9])\\1+', input())\n",
        "print(res.group(1) if res else -1)\n"
      ],
      "metadata": {
        "id": "osqW9t7vxiOC"
      },
      "execution_count": null,
      "outputs": []
    },
    {
      "cell_type": "markdown",
      "source": [
        "Decorators 2"
      ],
      "metadata": {
        "id": "POIBrh4Sz_Oj"
      }
    },
    {
      "cell_type": "code",
      "source": [
        "def person_lister(f):\n",
        "    def inner(people):\n",
        "        return map(f, sorted(people, key=lambda x: int(x[2])))\n",
        "    return inner"
      ],
      "metadata": {
        "id": "F_5Fg0mx0AxB"
      },
      "execution_count": null,
      "outputs": []
    },
    {
      "cell_type": "markdown",
      "source": [
        "Polar Coordinates"
      ],
      "metadata": {
        "id": "xnj5MBoC0Bmv"
      }
    },
    {
      "cell_type": "code",
      "source": [
        "import cmath\n",
        "\n",
        "com = complex(input())\n",
        "\n",
        "r, phi = cmath.polar(com)\n",
        "print(f\"{r}\\n{phi}\")\n"
      ],
      "metadata": {
        "id": "XEz28V0O0qEj"
      },
      "execution_count": null,
      "outputs": []
    },
    {
      "cell_type": "markdown",
      "source": [
        "XML2 - Find the Maximum Depth"
      ],
      "metadata": {
        "id": "bB6WqCTg0tAE"
      }
    },
    {
      "cell_type": "code",
      "source": [
        "maxdepth = 0\n",
        "def depth(elem, level):\n",
        "    global maxdepth\n",
        "    for i in elem:\n",
        "        depth(i, level +1)\n",
        "    maxdepth = max(maxdepth, level+1)\n",
        "\n",
        "\n",
        "com = complex(input())\n",
        "\n",
        "r, phi = cmath.polar(com)\n",
        "print(f\"{r}\\n{phi}\")\n"
      ],
      "metadata": {
        "id": "dXB_Fs9u0w_s"
      },
      "execution_count": null,
      "outputs": []
    },
    {
      "cell_type": "markdown",
      "source": [
        "Any or All"
      ],
      "metadata": {
        "id": "qPahD1rN04e8"
      }
    },
    {
      "cell_type": "code",
      "source": [
        "a = input()\n",
        "b = input().split()\n",
        "print(any(i[::-1] == i for i in b) and all(int(i)>=0 for i in b))\n"
      ],
      "metadata": {
        "id": "_Js1BoHq059q"
      },
      "execution_count": null,
      "outputs": []
    },
    {
      "cell_type": "markdown",
      "source": [
        "Athlete Sort"
      ],
      "metadata": {
        "id": "IRYBZHrQ09FX"
      }
    },
    {
      "cell_type": "code",
      "source": [
        "X = list(map(int , input().split()))\n",
        "Data, K = [list(map(int , input().split())) for i in range(X[0])] , int(input())\n",
        "Sorted = sorted(Data , key = lambda i: i[K])\n",
        "for i in Sorted:\n",
        "    print(*i)"
      ],
      "metadata": {
        "id": "lulIrblb0-1b"
      },
      "execution_count": null,
      "outputs": []
    },
    {
      "cell_type": "markdown",
      "source": [
        "Python Evaluation"
      ],
      "metadata": {
        "id": "rCwOhjSZ1Asx"
      }
    },
    {
      "cell_type": "code",
      "source": [
        "var = input()\n",
        "r = eval(var[6:-1])\n",
        "print(r)"
      ],
      "metadata": {
        "id": "fTJvmWUU1E_j"
      },
      "execution_count": null,
      "outputs": []
    },
    {
      "cell_type": "markdown",
      "source": [
        "Input()"
      ],
      "metadata": {
        "id": "iTbuXugk1Gyq"
      }
    },
    {
      "cell_type": "code",
      "source": [
        "x,k = map(int,input().split())\n",
        "y = input()\n",
        "z = eval(y)\n",
        "print('True' if int(z)  == int(k) else 'False')"
      ],
      "metadata": {
        "id": "k2RRL9IS1Jyy"
      },
      "execution_count": null,
      "outputs": []
    },
    {
      "cell_type": "markdown",
      "source": [
        "Zipped!"
      ],
      "metadata": {
        "id": "C9uvjmmM1Lcy"
      }
    },
    {
      "cell_type": "code",
      "source": [
        "X = list(map(int , input().split()))\n",
        "Ans = zip(*[map(float , input().split()) for i in range(X[1])])\n",
        "print(*[format(sum(i)/X[1], '.1f') for i in Ans ], sep = '\\n')\n"
      ],
      "metadata": {
        "id": "ZquwHdmB1OlC"
      },
      "execution_count": null,
      "outputs": []
    },
    {
      "cell_type": "markdown",
      "source": [
        "Default Arguments"
      ],
      "metadata": {
        "id": "ExLgg1Y_1Riz"
      }
    },
    {
      "cell_type": "code",
      "source": [
        "def print_from_stream(n, stream=None):\n",
        "    if stream is None:\n",
        "        stream = EvenStream()  # Default to EvenStream if no stream is provided\n",
        "    for _ in range(n):\n",
        "        print(stream.get_next())"
      ],
      "metadata": {
        "id": "BJfzYRYn1XR6"
      },
      "execution_count": null,
      "outputs": []
    },
    {
      "cell_type": "markdown",
      "source": [
        "Words Score"
      ],
      "metadata": {
        "id": "WGN6JPyP1bm5"
      }
    },
    {
      "cell_type": "code",
      "source": [
        "def has_vowel(letters):\n",
        "    v_sum =sum([['a', 'e', 'i', 'o', 'u', 'y'].count(l) for l in letters])\n",
        "    return  2 if  v_sum %2 == 0 else 1\n",
        "def score_words(words):\n",
        "    return sum([has_vowel(w) for w in [[*map(str,word)] for word in words]])"
      ],
      "metadata": {
        "id": "YNOHWKhD1cjr"
      },
      "execution_count": null,
      "outputs": []
    },
    {
      "cell_type": "markdown",
      "source": [
        "Python: Division"
      ],
      "metadata": {
        "id": "pSv6Nx4a1fYn"
      }
    },
    {
      "cell_type": "code",
      "source": [
        "if __name__ == '__main__':\n",
        "    a = int(input())\n",
        "    b = int(input())\n",
        "    print(a//b)\n",
        "    print(a/b)\n"
      ],
      "metadata": {
        "id": "tzNQ_qpw-Q32"
      },
      "execution_count": null,
      "outputs": []
    },
    {
      "cell_type": "markdown",
      "source": [
        "Srithmetic Operations"
      ],
      "metadata": {
        "id": "HCpAN1vh-TDA"
      }
    },
    {
      "cell_type": "code",
      "source": [
        "if __name__ == '__main__':\n",
        "    a = int(input())\n",
        "    b = int(input())\n",
        "print(a+b)\n",
        "print(a-b)\n",
        "print(a*b)\n"
      ],
      "metadata": {
        "id": "N_A36xfi-Xbo"
      },
      "execution_count": null,
      "outputs": []
    },
    {
      "cell_type": "markdown",
      "source": [
        "Re.split ()"
      ],
      "metadata": {
        "id": "26lzjNuBwafI"
      }
    },
    {
      "cell_type": "code",
      "source": [
        "regex_pattern = r\"[,.]+\"    # Do not delete 'r'.\n",
        "import re\n",
        "print(\"\\n\".join(re.split(regex_pattern, input())))"
      ],
      "metadata": {
        "id": "XU19wD61xxts"
      },
      "execution_count": null,
      "outputs": []
    },
    {
      "cell_type": "markdown",
      "source": [
        "Detect Floating Point Number"
      ],
      "metadata": {
        "id": "RtcLEkyPx_xV"
      }
    },
    {
      "cell_type": "code",
      "source": [
        "import re\n",
        "for i in range(int(input())):\n",
        "    X = input()\n",
        "    print(True if re.search('^[+-]?[0-9]*\\.[0-9]+$', X) else False)"
      ],
      "metadata": {
        "id": "v4T4W15iyCbp"
      },
      "execution_count": null,
      "outputs": []
    },
    {
      "cell_type": "markdown",
      "source": [
        "Python if-Else"
      ],
      "metadata": {
        "id": "HxwGFxhDyDHs"
      }
    },
    {
      "cell_type": "code",
      "source": [
        "import math\n",
        "import os\n",
        "import random\n",
        "import re\n",
        "import sys\n",
        "n = int(input().strip())\n",
        "if  n % 2!= 0:\n",
        "   print(\"Weird\")\n",
        "elif n % 2 == 0 and 2<=n<=5:\n",
        "   print(\"Not Weird\")\n",
        "elif n % 2 == 0 and 6<=n<=20:\n",
        "   print(\"Weird\")\n",
        "else:\n",
        "   print(\"Not Weird\")\n"
      ],
      "metadata": {
        "id": "vX_2VpbeyipT"
      },
      "execution_count": null,
      "outputs": []
    },
    {
      "cell_type": "markdown",
      "source": [
        "Loops"
      ],
      "metadata": {
        "id": "ozfXMcWpzJDs"
      }
    },
    {
      "cell_type": "code",
      "source": [
        "if __name__ == '__main__':\n",
        "    n = int(input())\n",
        "\n",
        "    for i in range(n):\n",
        "        print(i*i)\n"
      ],
      "metadata": {
        "id": "q7yKqMoizKcv"
      },
      "execution_count": null,
      "outputs": []
    },
    {
      "cell_type": "markdown",
      "source": [
        "Say \"Hello, World!\" With Python"
      ],
      "metadata": {
        "id": "u5gC1q4BzPH4"
      }
    },
    {
      "cell_type": "code",
      "source": [
        "if __name__ == '__main__':\n",
        "    print(\"Hello, World!\")\n"
      ],
      "metadata": {
        "colab": {
          "base_uri": "https://localhost:8080/"
        },
        "id": "WbSq3nA1zT2K",
        "outputId": "6e0e5556-d844-4013-ff44-a772159188b0"
      },
      "execution_count": 3,
      "outputs": [
        {
          "output_type": "stream",
          "name": "stdout",
          "text": [
            "Hello, World!\n"
          ]
        }
      ]
    },
    {
      "cell_type": "markdown",
      "source": [
        "Write a function"
      ],
      "metadata": {
        "id": "N5OnHdCczZf9"
      }
    },
    {
      "cell_type": "code",
      "source": [
        "def is_leap(year):\n",
        "   leap = False\n",
        "   if (year % 4 == 0 and year % 100!= 0) or (year % 400==0):\n",
        "        return True\n",
        "   else: return False\n",
        "   return leap"
      ],
      "metadata": {
        "id": "Zkyn3uM1za5P"
      },
      "execution_count": null,
      "outputs": []
    },
    {
      "cell_type": "markdown",
      "source": [
        "Print Function"
      ],
      "metadata": {
        "id": "pE5xDr5zzieU"
      }
    },
    {
      "cell_type": "code",
      "source": [
        "if __name__ == '__main__':\n",
        "    n = int(input())\n",
        "    for i in range(n):\n",
        "      print(i+1, end=\"\")\n"
      ],
      "metadata": {
        "id": "v9wdzGNSzkLp"
      },
      "execution_count": null,
      "outputs": []
    },
    {
      "cell_type": "markdown",
      "source": [
        "Introduction to Sets"
      ],
      "metadata": {
        "id": "usxkePqrylK3"
      }
    },
    {
      "cell_type": "code",
      "source": [
        "def average(array):\n",
        "    # your code goes here\n",
        "    distinct_h = set(array)\n",
        "    avg = round(sum(distinct_h) / len(distinct_h), 3)\n",
        "    return avg"
      ],
      "metadata": {
        "colab": {
          "base_uri": "https://localhost:8080/"
        },
        "id": "yifUrUOFyqp_",
        "outputId": "6aeb7cdf-f1bf-4170-ece0-f8b33f0ac582"
      },
      "execution_count": 2,
      "outputs": [
        {
          "output_type": "stream",
          "name": "stdout",
          "text": [
            "3\n",
            "123"
          ]
        }
      ]
    },
    {
      "cell_type": "markdown",
      "source": [
        "Validating Email Addresses With a Filter"
      ],
      "metadata": {
        "id": "prfrFfyn1xlD"
      }
    },
    {
      "cell_type": "code",
      "source": [
        "import string\n",
        "def fun(s):\n",
        "    # return True if s is a valid email, else return False\n",
        "    l = string.ascii_letters\n",
        "    d = string.digits\n",
        "    if s.count('@') != 1:\n",
        "        return False\n",
        "    try:\n",
        "        name, domain = s.split('@')\n",
        "        web, ext = domain.split('.')\n",
        "    except ValueError:\n",
        "        return False\n",
        "\n",
        "    if not name or not all(x in l + d + '-_' for x in name):\n",
        "        return False\n",
        "    if not web or not all(x in l + d for x in web):\n",
        "        return False\n",
        "    if not (1 <= len(ext) <= 3) or not all(x in l for x in ext):\n",
        "        return False\n",
        "    return True\n"
      ],
      "metadata": {
        "id": "IlOJau2p2BiX"
      },
      "execution_count": null,
      "outputs": []
    },
    {
      "cell_type": "markdown",
      "source": [
        "ginortS"
      ],
      "metadata": {
        "id": "GN5mhocx2CPm"
      }
    },
    {
      "cell_type": "code",
      "source": [
        "X = input()\n",
        "Lower , Upper, Digit = sorted([i for i in X if i.islower()]), sorted([i for i in X if i.isupper()]), [i for i in X if i.isdigit()]\n",
        "Digit = sorted(Digit, key = lambda x: (not int(x)%2, ord(x)))\n",
        "print(\"\".join(Lower+Upper+Digit))"
      ],
      "metadata": {
        "id": "jF9cM91u2KaS"
      },
      "execution_count": null,
      "outputs": []
    },
    {
      "cell_type": "markdown",
      "source": [
        "Reduce Function"
      ],
      "metadata": {
        "id": "aZ3HMWPk2LGA"
      }
    },
    {
      "cell_type": "code",
      "source": [
        "from functools import reduce\n",
        "from operator import mul\n",
        "\n",
        "def product(fracs):\n",
        "    t = reduce(mul, fracs)\n",
        "    return t.numerator, t.denominator"
      ],
      "metadata": {
        "id": "M6Ms2Nf-2ROU"
      },
      "execution_count": null,
      "outputs": []
    },
    {
      "cell_type": "markdown",
      "source": [
        "Company Logo"
      ],
      "metadata": {
        "id": "JTowRY9K2TfS"
      }
    },
    {
      "cell_type": "code",
      "source": [
        "from collections import Counter\n",
        "MyDict = Counter(list(input()))\n",
        "Values, Keys , Ans = Counter(sorted(MyDict.values() , reverse = True)[:3]) , sorted(MyDict.keys()), []\n",
        "for i in Keys:\n",
        "    if Values.get(MyDict[i]):\n",
        "        Ans.append((i , MyDict[i]))\n",
        "        Values[MyDict[i]] -=1\n",
        "Ans = sorted(Ans , key = lambda x: x[1], reverse = True)\n",
        "print(*[i[0] +' ' + str(i[1]) for i in Ans], sep = '\\n')"
      ],
      "metadata": {
        "id": "rWHopKR32WeT"
      },
      "execution_count": null,
      "outputs": []
    },
    {
      "cell_type": "markdown",
      "source": [
        "Pilling Up!"
      ],
      "metadata": {
        "id": "fMK-b12r2YVl"
      }
    },
    {
      "cell_type": "code",
      "source": [
        "from collections import deque\n",
        "\n",
        "for i in range(int(input())):\n",
        "    input()\n",
        "    d = deque(map(int,input().split()))\n",
        "    while d:\n",
        "        big = d.popleft() if d[0]>d[-1] else d.pop()\n",
        "        if not d:\n",
        "            break\n",
        "        if d[-1]>big or d[0]>big:\n",
        "            break\n",
        "    print(\"No\" if d else 'Yes')"
      ],
      "metadata": {
        "id": "sD8Cg9PS2fX3"
      },
      "execution_count": null,
      "outputs": []
    },
    {
      "cell_type": "markdown",
      "source": [
        "Collections.deque()"
      ],
      "metadata": {
        "id": "hv-kWozU2fyd"
      }
    },
    {
      "cell_type": "code",
      "source": [
        "from collections import deque\n",
        "D = deque()\n",
        "for i in range(int(input())):\n",
        "    Command = input().split()\n",
        "    if Command[0] == 'append':\n",
        "        D.append(Command[1])\n",
        "    elif Command[0] == 'appendleft':\n",
        "        D.appendleft(Command[1])\n",
        "    elif Command[0] == 'pop':\n",
        "        D.pop()\n",
        "    else:\n",
        "        D.popleft()\n",
        "print(*D)"
      ],
      "metadata": {
        "id": "6rqYa-kn2m2o"
      },
      "execution_count": null,
      "outputs": []
    },
    {
      "cell_type": "markdown",
      "source": [
        "Word Order"
      ],
      "metadata": {
        "id": "Yn3uWlKi2nXn"
      }
    },
    {
      "cell_type": "code",
      "source": [
        "from collections import deque\n",
        "D = deque()\n",
        "for i in range(int(input())):\n",
        "    Command = input().split()\n",
        "    if Command[0] == 'append':\n",
        "        D.append(Command[1])\n",
        "    elif Command[0] == 'appendleft':\n",
        "        D.appendleft(Command[1])\n",
        "    elif Command[0] == 'pop':\n",
        "        D.pop()\n",
        "    else:\n",
        "        D.popleft()\n",
        "print(*D)"
      ],
      "metadata": {
        "id": "PsYq3Jkl2qjY"
      },
      "execution_count": null,
      "outputs": []
    },
    {
      "cell_type": "markdown",
      "source": [
        "Collections.OrderDict()"
      ],
      "metadata": {
        "id": "ZgvQGk9_2rEA"
      }
    },
    {
      "cell_type": "code",
      "source": [
        "from collections import OrderedDict\n",
        "MyDict = OrderedDict()\n",
        "for i in range(int(input())):\n",
        "    X = input().split()\n",
        "    if MyDict.get(\" \".join(X[:-1])):\n",
        "        MyDict[\" \".join(X[:-1])] += int(X[-1])\n",
        "    else:\n",
        "        MyDict[\" \".join(X[:-1])] = int(X[-1])\n",
        "for i in MyDict:\n",
        "    print(i, MyDict[i] )"
      ],
      "metadata": {
        "id": "IZqV0NEd2y1V"
      },
      "execution_count": null,
      "outputs": []
    },
    {
      "cell_type": "markdown",
      "source": [
        "Collections.namedtuple()"
      ],
      "metadata": {
        "id": "ZiCDR26a20e1"
      }
    },
    {
      "cell_type": "code",
      "source": [
        "from collections import namedtuple\n",
        "N, Sum = int(input()) , 0\n",
        "T = namedtuple('T' , \" \".join(input().split()))\n",
        "for i in range(N):\n",
        "    X = T(*list(input().split()))\n",
        "    Sum+= int(X.MARKS)\n",
        "print(\"{:.2f}\".format(Sum/N))\n"
      ],
      "metadata": {
        "id": "1OzS9jsI251_"
      },
      "execution_count": null,
      "outputs": []
    },
    {
      "cell_type": "markdown",
      "source": [
        "DefaultDict Tutorial"
      ],
      "metadata": {
        "id": "dfUp2ecb26Ry"
      }
    },
    {
      "cell_type": "code",
      "source": [
        "from collections import defaultdict\n",
        "X = list(map(int, input().split()))\n",
        "A = defaultdict(list)\n",
        "for i in range(X[0]):\n",
        "    A[input()].append(i+1)\n",
        "for i in range(X[1]):\n",
        "    S = input()\n",
        "    if A.get(S):print(*A[S])\n",
        "    else: print(-1)"
      ],
      "metadata": {
        "id": "C-Q6BVZU2_Lj"
      },
      "execution_count": null,
      "outputs": []
    },
    {
      "cell_type": "markdown",
      "source": [
        "collection.Counter()"
      ],
      "metadata": {
        "id": "HG9qMME-3Alk"
      }
    },
    {
      "cell_type": "code",
      "source": [
        "from collections import Counter\n",
        "input()\n",
        "MyDict, Profit = Counter(input().split()), 0\n",
        "for i in range(int(input())):\n",
        "    X = input().split()\n",
        "    if MyDict.get(X[0]):\n",
        "        Profit+= int(X[1])\n",
        "        MyDict[X[0]] -=1\n",
        "print(Profit)"
      ],
      "metadata": {
        "id": "mkfST6L13FsC"
      },
      "execution_count": null,
      "outputs": []
    },
    {
      "cell_type": "markdown",
      "source": [
        "XML 1 - Find the Score"
      ],
      "metadata": {
        "id": "Os3TaMa13GVN"
      }
    },
    {
      "cell_type": "code",
      "source": [
        "import sys\n",
        "import xml.etree.ElementTree as etree\n",
        "\n",
        "def get_attr_number(node):\n",
        "    # your code goes here\n",
        "    return sum([len(i.items()) for i in node.iter()])\n",
        "if __name__ == '__main__':\n",
        "    sys.stdin.readline()\n",
        "    xml = sys.stdin.read()\n",
        "    tree = etree.ElementTree(etree.fromstring(xml))\n",
        "    root = tree.getroot()\n",
        "    print(get_attr_number(root))"
      ],
      "metadata": {
        "id": "wFKE2orO3MFG"
      },
      "execution_count": null,
      "outputs": []
    },
    {
      "cell_type": "markdown",
      "source": [
        "Shape and Reshape"
      ],
      "metadata": {
        "id": "Evyie3pv3UOM"
      }
    },
    {
      "cell_type": "code",
      "source": [
        "import numpy\n",
        "import numpy\n",
        "print(numpy.reshape(list(map(int , input().split())), (3, 3)))"
      ],
      "metadata": {
        "id": "tGIcbxd83Z3A"
      },
      "execution_count": null,
      "outputs": []
    },
    {
      "cell_type": "markdown",
      "source": [
        "Arrays"
      ],
      "metadata": {
        "id": "KEmlInnA3bZ0"
      }
    },
    {
      "cell_type": "code",
      "source": [
        "def arrays(arr):\n",
        "    # complete this function\n",
        "    # use numpy.array\n",
        "    l = arr[::-1]\n",
        "    a = numpy.array(l, float)\n",
        "    return a\n"
      ],
      "metadata": {
        "id": "nWd7L80z3f8y"
      },
      "execution_count": null,
      "outputs": []
    },
    {
      "cell_type": "markdown",
      "source": [
        "Concatenate"
      ],
      "metadata": {
        "id": "GGGaZJRJ3gVH"
      }
    },
    {
      "cell_type": "code",
      "source": [
        "import numpy\n",
        "X = list(map(int ,input().split()))\n",
        "A, B = numpy.array([list(map(int , input().split())) for i in range(X[0])]), numpy.array([list(map(int , input().split())) for i in range(X[1])])\n",
        "print(numpy.concatenate((A, B), axis= 0))\n"
      ],
      "metadata": {
        "id": "7sqk4CX032TC"
      },
      "execution_count": null,
      "outputs": []
    },
    {
      "cell_type": "markdown",
      "source": [
        "Transpose and Flatten"
      ],
      "metadata": {
        "id": "FcK115_y32wg"
      }
    },
    {
      "cell_type": "code",
      "source": [
        "import numpy\n",
        "N = list(map(int , input().split()))\n",
        "X = numpy.array([list(map(int , input().split())) for i in range(N[0])])\n",
        "print(*[numpy.transpose(X), X.flatten()], sep = '\\n')\n"
      ],
      "metadata": {
        "id": "G9TjRyVI368D"
      },
      "execution_count": null,
      "outputs": []
    },
    {
      "cell_type": "markdown",
      "source": [
        "Linear Algebra"
      ],
      "metadata": {
        "id": "jtNDjbzD386r"
      }
    },
    {
      "cell_type": "code",
      "source": [
        "import numpy\n",
        "N = int(input())\n",
        "print(round(numpy.linalg.det(numpy.array([list(map(float , input().split())) for i in range(N)])), 2))\n"
      ],
      "metadata": {
        "id": "HTyD7sO74EQB"
      },
      "execution_count": null,
      "outputs": []
    },
    {
      "cell_type": "markdown",
      "source": [
        "Polynomials"
      ],
      "metadata": {
        "id": "J0hPkzcD4F3T"
      }
    },
    {
      "cell_type": "code",
      "source": [
        "import numpy\n",
        "print(numpy.polyval(numpy.array(list(map(float , input().split()))), int(input())))\n"
      ],
      "metadata": {
        "id": "zQadk3i04MIs"
      },
      "execution_count": null,
      "outputs": []
    },
    {
      "cell_type": "markdown",
      "source": [
        "Inner and Outer"
      ],
      "metadata": {
        "id": "ygq7eu7G4N7L"
      }
    },
    {
      "cell_type": "code",
      "source": [
        "import numpy\n",
        "A, B = numpy.array(list(map(int , input().split()))), numpy.array(list(map(int , input().split())))\n",
        "print(numpy.inner(A, B), numpy.outer(A, B), sep = '\\n')\n"
      ],
      "metadata": {
        "id": "xJ8ZaYOy4Rfo"
      },
      "execution_count": null,
      "outputs": []
    },
    {
      "cell_type": "markdown",
      "source": [
        "Dot and Cross"
      ],
      "metadata": {
        "id": "pjh4PdjT4VaS"
      }
    },
    {
      "cell_type": "code",
      "source": [
        "import numpy\n",
        "N = int(input())\n",
        "A = numpy.array([list(map(int , input().split())) for i in range(N)])\n",
        "B = numpy.array([list(map(int , input().split())) for i in range(N)])\n",
        "print(numpy.dot(A,B))\n"
      ],
      "metadata": {
        "id": "c9NEYFmr4WfR"
      },
      "execution_count": null,
      "outputs": []
    },
    {
      "cell_type": "markdown",
      "source": [
        "Mean, Var, and Std"
      ],
      "metadata": {
        "id": "DglmqFPl4W4O"
      }
    },
    {
      "cell_type": "code",
      "source": [
        "import numpy\n",
        "X = list(map(int , input().split()))\n",
        "Arr = numpy.array([list(map(int , input().split())) for i in range(X[0])])\n",
        "print(numpy.mean(Arr, axis=1), numpy.var(Arr, axis= 0 ), numpy.around(numpy.std(Arr),decimals=11), sep = '\\n')\n"
      ],
      "metadata": {
        "id": "GN1VFJQ24cwj"
      },
      "execution_count": null,
      "outputs": []
    },
    {
      "cell_type": "markdown",
      "source": [
        "Min and Max"
      ],
      "metadata": {
        "id": "ln8Nqh6E4dTs"
      }
    },
    {
      "cell_type": "code",
      "source": [
        "import numpy\n",
        "X = list(map(int , input().split()))\n",
        "Arr = numpy.array([list(map(int, input().split())) for i in range(X[0])])\n",
        "print(numpy.max(numpy.min(Arr, axis = 1)))\n"
      ],
      "metadata": {
        "id": "mpBdaRZG4g7s"
      },
      "execution_count": null,
      "outputs": []
    },
    {
      "cell_type": "markdown",
      "source": [
        "Sum and Proud"
      ],
      "metadata": {
        "id": "RY7Rx8-24hVL"
      }
    },
    {
      "cell_type": "code",
      "source": [
        "import numpy\n",
        "X = list(map(int , input().split()))\n",
        "Arr = numpy.array([list(map(int, input().split())) for i in range(X[0])])\n",
        "print(numpy.max(numpy.min(Arr, axis = 1)))\n"
      ],
      "metadata": {
        "id": "a91hpMLE4m6w"
      },
      "execution_count": null,
      "outputs": []
    },
    {
      "cell_type": "markdown",
      "source": [
        "Floor, Ceil and Rint"
      ],
      "metadata": {
        "id": "ZrCneqMI4ndJ"
      }
    },
    {
      "cell_type": "code",
      "source": [
        "import numpy\n",
        "numpy.set_printoptions(legacy = '1.13')\n",
        "A = numpy.array(list(map(float, input().split())))\n",
        "print(numpy.floor(A), numpy.ceil(A), numpy.rint(A), sep = '\\n')"
      ],
      "metadata": {
        "id": "ty3m-qrb4sLQ"
      },
      "execution_count": null,
      "outputs": []
    },
    {
      "cell_type": "markdown",
      "source": [
        "Zeros and Ones"
      ],
      "metadata": {
        "id": "PSa7Xl9n4skp"
      }
    },
    {
      "cell_type": "code",
      "source": [
        "import numpy\n",
        "X = tuple(map(int , input().split()))\n",
        "print(numpy.zeros(X, dtype = numpy.int))\n",
        "print(numpy.ones(X, dtype= numpy.int))\n"
      ],
      "metadata": {
        "id": "kMf4pvDi4y2n"
      },
      "execution_count": null,
      "outputs": []
    },
    {
      "cell_type": "markdown",
      "source": [
        "Set.discard(), remove() &.popo()"
      ],
      "metadata": {
        "id": "Pfyu16tX4zL2"
      }
    },
    {
      "cell_type": "code",
      "source": [
        "input()\n",
        "s = set(map(int, input().split()))\n",
        "for i in range(int(input())):\n",
        "    Command = input().split()\n",
        "    if Command[0] == 'pop':\n",
        "        s.pop()\n",
        "    elif Command[0] == 'remove':\n",
        "        s.remove(int(Command[1]))\n",
        "    else:\n",
        "        s.discard(int(Command[1]))\n",
        "print(sum(s))\n"
      ],
      "metadata": {
        "id": "mwBlUsLb48__"
      },
      "execution_count": null,
      "outputs": []
    },
    {
      "cell_type": "markdown",
      "source": [
        "Set.add()"
      ],
      "metadata": {
        "id": "SK6Y8dQo5AFZ"
      }
    },
    {
      "cell_type": "code",
      "source": [
        "MySet = set()\n",
        "for i in range(int(input())):\n",
        "    MySet.add(input())\n",
        "print(len(MySet))"
      ],
      "metadata": {
        "id": "q-846T3X5BIe"
      },
      "execution_count": null,
      "outputs": []
    },
    {
      "cell_type": "markdown",
      "source": [
        "No Idea!"
      ],
      "metadata": {
        "id": "yUrCQ9-E5Clk"
      }
    },
    {
      "cell_type": "code",
      "source": [
        "input()\n",
        "X, A, B, H = input().split() , set(input().split()), set(input().split()), 0\n",
        "print(sum(1 if A.__contains__(i) else(-1 if B.__contains__(i) else 0) for i in X))\n"
      ],
      "metadata": {
        "id": "PsyPt38E5HfF"
      },
      "execution_count": null,
      "outputs": []
    },
    {
      "cell_type": "markdown",
      "source": [
        "Symmetric Difference"
      ],
      "metadata": {
        "id": "TJBMCgE85H57"
      }
    },
    {
      "cell_type": "code",
      "source": [
        "input()\n",
        "X = set(map(int , input().split()))\n",
        "input()\n",
        "Y = set(map(int , input().split()))\n",
        "print(*sorted(list(X.symmetric_difference(Y))) , sep = '\\n')"
      ],
      "metadata": {
        "id": "_tYvL66n5OK1"
      },
      "execution_count": null,
      "outputs": []
    },
    {
      "cell_type": "markdown",
      "source": [
        "Re.findal() & Re.finditer()"
      ],
      "metadata": {
        "id": "5x3uh3xU5OtG"
      }
    },
    {
      "cell_type": "code",
      "source": [
        "import re\n",
        "res = re.findall(r\"(?<=[^AEIOUaeiou])([AEIOUaeiou]{2,})[^AEIOUaeiou]\", input())\n",
        "print(*res if res else [-1], sep = '\\n')\n"
      ],
      "metadata": {
        "id": "xKd09eYt5VDR"
      },
      "execution_count": null,
      "outputs": []
    },
    {
      "cell_type": "markdown",
      "source": [
        "Incorret Regex"
      ],
      "metadata": {
        "id": "wsIH_sv55Vfj"
      }
    },
    {
      "cell_type": "code",
      "source": [
        "import re\n",
        "\n",
        "n = int(input())\n",
        "\n",
        "for x in range(n):\n",
        "    s = input()\n",
        "    try:\n",
        "        re.compile(s)\n",
        "        print(\"True\")\n",
        "    except re.error:\n",
        "        print(\"False\")"
      ],
      "metadata": {
        "id": "i1h-8yul5YXv"
      },
      "execution_count": null,
      "outputs": []
    },
    {
      "cell_type": "markdown",
      "source": [
        "Exceptions"
      ],
      "metadata": {
        "id": "Ppi3Idjl5Z8F"
      }
    },
    {
      "cell_type": "code",
      "source": [
        "for i in range(int(input())):\n",
        "    try:\n",
        "        X = list(map(int, input().split()))\n",
        "        print(X[0]//X[1])\n",
        "    except Exception as e:\n",
        "        print(\"Error Code:\", e)"
      ],
      "metadata": {
        "id": "W4o6iGue5gcU"
      },
      "execution_count": null,
      "outputs": []
    },
    {
      "cell_type": "markdown",
      "source": [
        "Time Delta"
      ],
      "metadata": {
        "id": "Qi26wI2q5g1e"
      }
    },
    {
      "cell_type": "code",
      "source": [
        "from datetime import datetime\n",
        "\n",
        "# Complete the time_delta function below.\n",
        "def time_delta(t1, t2):\n",
        "    f= '%a %d %b %Y %H:%M:%S %z'\n",
        "    Date1 = datetime.strptime(t1, f)\n",
        "    Date2 = datetime.strptime(t2, f)\n",
        "    return abs(int((Date1 - Date2).total_seconds()))\n",
        "\n",
        "for i in range(int(input())):\n",
        "    t1 , t2 = input(), input()\n",
        "    print(time_delta(t1, t2))\n"
      ],
      "metadata": {
        "id": "hwx_P6YW5r7L"
      },
      "execution_count": null,
      "outputs": []
    },
    {
      "cell_type": "markdown",
      "source": [
        "Calendar Module"
      ],
      "metadata": {
        "id": "XZdNC18k5sN2"
      }
    },
    {
      "cell_type": "code",
      "source": [
        "import calendar\n",
        "X = list(map(int , input().split()))\n",
        "print(calendar.day_name[calendar.weekday(X[-1] , X[0] , X[1])].upper())\n"
      ],
      "metadata": {
        "id": "A4joLQM95xlv"
      },
      "execution_count": null,
      "outputs": []
    },
    {
      "cell_type": "markdown",
      "source": [
        "Validating phone numbers"
      ],
      "metadata": {
        "id": "DhP4kq1K5yLr"
      }
    },
    {
      "cell_type": "code",
      "source": [
        "import re\n",
        "res = []\n",
        "for i in range(int(input())):\n",
        "    res.append('YES' if re.match(r'^[789][0-9]{9}$', input()) else 'NO')\n",
        "print(*res, sep = '\\n')\n"
      ],
      "metadata": {
        "id": "SS6bhVln52YY"
      },
      "execution_count": null,
      "outputs": []
    },
    {
      "cell_type": "markdown",
      "source": [
        "Validating Roman Numerals"
      ],
      "metadata": {
        "id": "we89-kZ_52wa"
      }
    },
    {
      "cell_type": "code",
      "source": [
        "regex_pattern = r\"^M{0,3}(CM|CD|D?C{0,3})(XC|XL|L?X{0,3})(IX|IV|V?I{0,3})$\"\t# Do not delete 'r'.\n"
      ],
      "metadata": {
        "id": "CLy-C3wY57-u"
      },
      "execution_count": null,
      "outputs": []
    },
    {
      "cell_type": "markdown",
      "source": [
        "Regex Substitution"
      ],
      "metadata": {
        "id": "6FdnmAEF58R8"
      }
    },
    {
      "cell_type": "code",
      "source": [
        "import re\n",
        "def Change(Pattern):\n",
        "    return 'and' if Pattern.group(0) =='&&' else 'or'\n",
        "\n",
        "for i in range(int(input())):\n",
        "    X = input()\n",
        "    print(re.sub(r'(?<= )(&&|\\|\\|)(?= )', Change, X))\n"
      ],
      "metadata": {
        "id": "15dyvhkG6Eq4"
      },
      "execution_count": null,
      "outputs": []
    },
    {
      "cell_type": "markdown",
      "source": [
        "Re.start() & Re.end()"
      ],
      "metadata": {
        "id": "B1358mP76E9p"
      }
    },
    {
      "cell_type": "code",
      "source": [
        "import re\n",
        "X, Check, Ans = input(), input(), []\n",
        "Pat = re.compile(Check)\n",
        "Indices = Pat.search(X)\n",
        "if not Indices:\n",
        "    Ans.append((-1, -1))\n",
        "else:\n",
        "    while Indices:\n",
        "        Ans.append((Indices.start(), Indices.end()-1))\n",
        "        Indices = Pat.search(X, Indices.start()+1)\n",
        "print(*Ans , sep= '\\n')\n"
      ],
      "metadata": {
        "id": "yHDfCzrI6MSj"
      },
      "execution_count": null,
      "outputs": []
    },
    {
      "cell_type": "markdown",
      "source": [
        "Check Strick Superset"
      ],
      "metadata": {
        "id": "PgNhmze66SIb"
      }
    },
    {
      "cell_type": "code",
      "source": [
        "A = set(input().split())\n",
        "for i in range(int(input())):\n",
        "    B = set(input().split())\n",
        "    if not(A.issuperset(B) and len(B.difference(A))==0):\n",
        "        print(False)\n",
        "        exit()\n",
        "print(True)\n"
      ],
      "metadata": {
        "id": "DVc0GEqi6Uop"
      },
      "execution_count": null,
      "outputs": []
    },
    {
      "cell_type": "markdown",
      "source": [
        "Check Subset"
      ],
      "metadata": {
        "id": "cEvWWVI-6VD9"
      }
    },
    {
      "cell_type": "code",
      "source": [
        "for i in range(int(input())):\n",
        "    input()\n",
        "    A = set(input().split())\n",
        "    input()\n",
        "    B = set(input().split())\n",
        "    print(A.issubset(B))\n"
      ],
      "metadata": {
        "id": "AiGFk9hj6Y5B"
      },
      "execution_count": null,
      "outputs": []
    },
    {
      "cell_type": "markdown",
      "source": [
        "The Captain's Room"
      ],
      "metadata": {
        "id": "Wazh26nW6dXb"
      }
    },
    {
      "cell_type": "code",
      "source": [
        "for i in range(int(input())):\n",
        "    input()\n",
        "    A = set(input().split())\n",
        "    input()\n",
        "    B = set(input().split())\n",
        "    print(A.issubset(B))\n"
      ],
      "metadata": {
        "id": "i-_491Ke6knI"
      },
      "execution_count": null,
      "outputs": []
    },
    {
      "cell_type": "markdown",
      "source": [
        "Set Mutations"
      ],
      "metadata": {
        "id": "syOrQNs66lA6"
      }
    },
    {
      "cell_type": "code",
      "source": [
        "input()\n",
        "A = set(input().split())\n",
        "for i in range(int(input())):\n",
        "    Command, B = input().split(), input().split()\n",
        "    if Command[0] == 'intersection_update':\n",
        "        A.intersection_update(B)\n",
        "    elif Command[0] == 'update':\n",
        "        A.update(B)\n",
        "    elif Command[0] == 'symmetric_difference_update':\n",
        "        A.symmetric_difference_update(B)\n",
        "    else:\n",
        "        A.difference_update(B)\n",
        "print(sum(map(int, A)))\n"
      ],
      "metadata": {
        "id": "LV-IGbZT6pwD"
      },
      "execution_count": null,
      "outputs": []
    },
    {
      "cell_type": "markdown",
      "source": [
        "Set.symmetric_difference() Operation"
      ],
      "metadata": {
        "id": "SVYEKx4L6qGA"
      }
    },
    {
      "cell_type": "code",
      "source": [
        "input()\n",
        "A = set(input().split())\n",
        "input()\n",
        "B = set(input().split())\n",
        "print(len(A.symmetric_difference(B)))\n"
      ],
      "metadata": {
        "id": "PAs9L1vD6x9Z"
      },
      "execution_count": null,
      "outputs": []
    },
    {
      "cell_type": "markdown",
      "source": [
        "Set.difference() Operation"
      ],
      "metadata": {
        "id": "Pbn2hsTP6yWy"
      }
    },
    {
      "cell_type": "code",
      "source": [
        "input()\n",
        "A = set(input().split())\n",
        "input()\n",
        "B = set(input().split())\n",
        "print(len(A.difference(B)))\n"
      ],
      "metadata": {
        "id": "nex_2zPP63xz"
      },
      "execution_count": null,
      "outputs": []
    },
    {
      "cell_type": "markdown",
      "source": [
        "Set.intersection() Operation"
      ],
      "metadata": {
        "id": "tF_shfYC64M_"
      }
    },
    {
      "cell_type": "code",
      "source": [
        "input()\n",
        "A = set(input().split())\n",
        "input()\n",
        "B = set(input().split())\n",
        "print(len(A.intersection(B)))\n"
      ],
      "metadata": {
        "id": "wbxqF_S_6-lm"
      },
      "execution_count": null,
      "outputs": []
    },
    {
      "cell_type": "markdown",
      "source": [
        "Set.union() Operation"
      ],
      "metadata": {
        "id": "QHtLCfOy6_G7"
      }
    },
    {
      "cell_type": "code",
      "source": [
        "input()\n",
        "A = set(input().split())\n",
        "input()\n",
        "B = set(input().split())\n",
        "print(len(A.union(B)))\n"
      ],
      "metadata": {
        "id": "pLhHpX_n7Dwo"
      },
      "execution_count": null,
      "outputs": []
    },
    {
      "cell_type": "markdown",
      "source": [
        "Hex Color Code"
      ],
      "metadata": {
        "id": "XWNRPEEp7ERh"
      }
    },
    {
      "cell_type": "code",
      "source": [
        "import re\n",
        "res, P = [], 0\n",
        "for i in range(int(input())):\n",
        "    X = input()\n",
        "    res.extend(re.findall('[\\s:](#(?:[A-Za-f0-9]{3}){1,2})', X))\n",
        "print(*res, sep = '\\n')\n"
      ],
      "metadata": {
        "id": "5UvrjuYr7JXB"
      },
      "execution_count": null,
      "outputs": []
    },
    {
      "cell_type": "markdown",
      "source": [
        "Validating and Parsing Email Addressed"
      ],
      "metadata": {
        "id": "LEqMwHn77J-E"
      }
    },
    {
      "cell_type": "code",
      "source": [
        "import re\n",
        "res = []\n",
        "for i in range(int(input())):\n",
        "    X = input().split()\n",
        "    if re.match(r'^[A-Za-z](\\w|-|\\.|_)+@[A-Za-z]+\\.[A-Za-z]{1,3}$', X[1][1:-1]):\n",
        "        res.append(\" \".join(X))\n",
        "print(*res, sep = '\\n')"
      ],
      "metadata": {
        "id": "26o789gA7PpH"
      },
      "execution_count": null,
      "outputs": []
    },
    {
      "cell_type": "markdown",
      "source": [
        "Matrix Script"
      ],
      "metadata": {
        "id": "nUz7rhuE7QA-"
      }
    },
    {
      "cell_type": "code",
      "source": [
        "import re\n",
        "n, m = map(int , input().split())\n",
        "matrix = []\n",
        "\n",
        "for _ in range(n):\n",
        "    matrix_item = input()\n",
        "    matrix.append(matrix_item)\n",
        "X = ''\n",
        "for i in range(m):\n",
        "    for j in range(n):\n",
        "        X+= matrix[j][i]\n",
        "print(re.sub(r'(?<=[a-zA-Z0-9])[^a-zA-Z0-9]+(?=[a-zA-Z0-9])',' ',X))\n"
      ],
      "metadata": {
        "id": "Z-GNQgjL7UC6"
      },
      "execution_count": null,
      "outputs": []
    },
    {
      "cell_type": "markdown",
      "source": [
        "Validating Postal Code"
      ],
      "metadata": {
        "id": "C41zCImW7UXK"
      }
    },
    {
      "cell_type": "code",
      "source": [
        "regex_integer_in_range = r\"[1-9][0-9]{5}$\"\t# Do not delete 'r'.\n",
        "regex_alternating_repetitive_digit_pair = r\"(\\d)(?=.\\1)\"\t# Do not delete 'r'.\n"
      ],
      "metadata": {
        "id": "KeZsdcFr7Y2h"
      },
      "execution_count": null,
      "outputs": []
    },
    {
      "cell_type": "markdown",
      "source": [
        "Validating Credit Card Numbers"
      ],
      "metadata": {
        "id": "01any3Uv7ZRL"
      }
    },
    {
      "cell_type": "code",
      "source": [
        "import re\n",
        "for _ in range(int(input())):\n",
        "    X = input()\n",
        "    print('Valid' if re.match(r\"^[456]([0-9]{15}|[0-9]{3}(-[0-9]{4}){3})$\", X) and not re.search(r\"([0-9])\\1{3}\", X.replace(\"-\", \"\")) else 'Invalid')\n"
      ],
      "metadata": {
        "id": "mKhrr-_A7eTt"
      },
      "execution_count": null,
      "outputs": []
    },
    {
      "cell_type": "markdown",
      "source": [
        "Validating UID"
      ],
      "metadata": {
        "id": "bwttn22X7ewb"
      }
    },
    {
      "cell_type": "code",
      "source": [
        "import re\n",
        "for i in range(int(input())):\n",
        "    X = ''.join(sorted(input()))\n",
        "    Constraints = [re.search('[A-Z]{3}', X), re.search('[0-9]{3,}',X), not re.search('[^a-zA-Z0-9]', X), len(set(X)) == len(X), len(X)==10]\n",
        "    print('Valid' if all(Constraints) else 'Invalid')\n"
      ],
      "metadata": {
        "id": "xqVlbOs-7jM2"
      },
      "execution_count": null,
      "outputs": []
    },
    {
      "cell_type": "markdown",
      "source": [
        "Detect HTML Tags, Attributes and Attribute Values"
      ],
      "metadata": {
        "id": "WeDZElwv7jiX"
      }
    },
    {
      "cell_type": "code",
      "source": [
        "from html.parser import HTMLParser\n",
        "class MyHTMLParser(HTMLParser):\n",
        "    def handle_starttag(self, tag, attrs):\n",
        "        print(tag)\n",
        "        [print('-> {} > {}'.format(*attr)) for attr in attrs]\n",
        "\n",
        "html = '\\n'.join([input() for _ in range(int(input()))])\n",
        "parser = MyHTMLParser()\n",
        "parser.feed(html)\n",
        "parser.close()\n"
      ],
      "metadata": {
        "id": "OKvZTZF17ump"
      },
      "execution_count": null,
      "outputs": []
    },
    {
      "cell_type": "markdown",
      "source": [
        "HTML Parser - Part 2"
      ],
      "metadata": {
        "id": "-pDmeFhT7z6H"
      }
    },
    {
      "cell_type": "code",
      "source": [
        "from html.parser import HTMLParser\n",
        "\n",
        "class MyHTMLParser(HTMLParser):\n",
        "    def handle_comment(self,data):\n",
        "        if('\\n' in data):\n",
        "            print(\">>> Multi-line Comment\")\n",
        "        else:\n",
        "            print(\">>> Single-line Comment\")\n",
        "        print(data)\n",
        "    def handle_data(self,data):\n",
        "        if(data != '\\n'):\n",
        "            print(\">>> Data\")\n",
        "            print(data)\n",
        "html = \"\"\n",
        "for i in range(int(input())):\n",
        "    html += input().rstrip()\n",
        "    html += '\\n'\n",
        "\n",
        "parser = MyHTMLParser()\n",
        "parser.feed(html)\n",
        "parser.close()\n"
      ],
      "metadata": {
        "id": "7DvshzvK72g6"
      },
      "execution_count": null,
      "outputs": []
    },
    {
      "cell_type": "markdown",
      "source": [
        "HTML Parser - Part 1"
      ],
      "metadata": {
        "id": "fT0L8nfU73DV"
      }
    },
    {
      "cell_type": "code",
      "source": [
        "from html.parser import HTMLParser\n",
        "class MyHTMLParser(HTMLParser):\n",
        "    def handle_starttag(self, tag, attrs):\n",
        "        print ('Start :',tag)\n",
        "        for i in attrs:\n",
        "            print ('->',i[0],'>',i[1])\n",
        "\n",
        "    def handle_endtag(self, tag):\n",
        "        print ('End   :',tag)\n",
        "\n",
        "    def handle_startendtag(self, tag, attrs):\n",
        "        print ('Empty :',tag)\n",
        "        for i in attrs:\n",
        "            print ('->',i[0],'>',i[1])\n",
        "\n",
        "MyParser = MyHTMLParser()\n",
        "MyParser.feed(''.join([input() for i in range(int(input()))]))\n"
      ],
      "metadata": {
        "id": "dgR5KQ9p78uI"
      },
      "execution_count": null,
      "outputs": []
    },
    {
      "cell_type": "markdown",
      "source": [
        "Merge the Tools!"
      ],
      "metadata": {
        "id": "H1Mgx_xc79Nt"
      }
    },
    {
      "cell_type": "code",
      "source": [
        "def merge_the_tools(string, k):\n",
        "    # your code goes\n",
        "    Subs, res = [string[i*k:i*k+k] for i in range(len(string)//k)] , []\n",
        "    for i in Subs:\n",
        "        Check, Temp = [] , ''\n",
        "        for j in i:\n",
        "            if j not in Check:\n",
        "                Temp+= j\n",
        "                Check.append(j)\n",
        "        res.append(Temp)\n",
        "    print(*res, sep= '\\n')"
      ],
      "metadata": {
        "id": "rdgQk3qs8CFu"
      },
      "execution_count": null,
      "outputs": []
    },
    {
      "cell_type": "markdown",
      "source": [
        "The Minion Game"
      ],
      "metadata": {
        "id": "xGktcV4X8CdX"
      }
    },
    {
      "cell_type": "code",
      "source": [
        "def minion_game(string):\n",
        "    # your code goes here\n",
        "    Vowels , S, K, W = 'AIOUE' , 0 , 0  , string\n",
        "    Size = len(W)\n",
        "    for i in range(Size):\n",
        "        if W[i] in Vowels:\n",
        "            K += Size - i\n",
        "        else:\n",
        "            S+= Size - i\n",
        "    print(\"Stuart \"+str(S) if S>K else (\"Kevin \"+str(K) if K>S else \"Draw\"))\n",
        "\n"
      ],
      "metadata": {
        "id": "jp6sX5wG8IuE"
      },
      "execution_count": null,
      "outputs": []
    },
    {
      "cell_type": "markdown",
      "source": [
        "Capitalize!"
      ],
      "metadata": {
        "id": "wT0j7v5u8JUO"
      }
    },
    {
      "cell_type": "code",
      "source": [
        "import math\n",
        "import os\n",
        "import random\n",
        "import re\n",
        "import sys\n",
        "# Complete the solve function below.\n",
        "def solve(s):\n",
        "    Check , res = True, ''\n",
        "    for i in s:\n",
        "        res += (i.upper() if Check else i)\n",
        "        Check = False\n",
        "        if i==' ':\n",
        "            Check = True\n",
        "    return res\n",
        "\n"
      ],
      "metadata": {
        "id": "YR-wy0628NgP"
      },
      "execution_count": null,
      "outputs": []
    },
    {
      "cell_type": "markdown",
      "source": [
        "Alphabet Rangoli"
      ],
      "metadata": {
        "id": "8CTeWoKd8N5H"
      }
    },
    {
      "cell_type": "code",
      "source": [
        "def print_rangoli(size):\n",
        "    N, ans = size , []\n",
        "    Max = N*2 + ((N-1)*2) - 1\n",
        "    for i in range(N , 0 , -1 ):\n",
        "        Forward = [chr(ord('a')+i-1) for i in range(N,N - (N-i)-1, -1)]\n",
        "        Backward = Forward[::-1][1:]\n",
        "        ans.append(\"-\".join(Forward+Backward).center(Max , '-'))\n",
        "    print(*ans , sep=\"\\n\")\n",
        "    print(*ans[::-1][1:], sep = '\\n')\n",
        "    # your code goes here\n",
        "\n"
      ],
      "metadata": {
        "id": "XSzG0WMY8Td8"
      },
      "execution_count": null,
      "outputs": []
    },
    {
      "cell_type": "markdown",
      "source": [
        "String Formatting"
      ],
      "metadata": {
        "id": "I-HHQwtb8T0B"
      }
    },
    {
      "cell_type": "code",
      "source": [
        "def print_formatted(number):\n",
        "    Maxlen, res = len(bin(number)[2:]), []\n",
        "    for i in range(1 , number+1):\n",
        "        X = str(i).rjust(Maxlen, ' ')+' '+ oct(i)[2:].rjust(Maxlen, ' ') +' '+ hex(i)[2:].rjust(Maxlen , ' ') +' ' + bin(i)[2:].rjust(Maxlen, ' ')\n",
        "        res.append(X.upper())\n",
        "    print(*res , sep = '\\n')\n",
        "    # your code goes here\n",
        "\n"
      ],
      "metadata": {
        "id": "HhAe78Pm8YQo"
      },
      "execution_count": null,
      "outputs": []
    },
    {
      "cell_type": "markdown",
      "source": [
        "Designer Door Mat"
      ],
      "metadata": {
        "id": "7Yf3TIYi8YmQ"
      }
    },
    {
      "cell_type": "code",
      "source": [
        "N , M = map(int , input().split())\n",
        "for i in range(N//2 , 0, -1):\n",
        "    print('-'*(3*i) + '.|.'*(2*(N//2-i)+1) + '-'*(3*i))\n",
        "print('WELCOME'.center(M , '-'))\n",
        "for i in range(1 , N//2+1):\n",
        "    print('-'*(3*i) + '.|.'*(2*(N//2-i)+1) + '-'*(3*i))\n"
      ],
      "metadata": {
        "id": "SazolBh_8ecg"
      },
      "execution_count": null,
      "outputs": []
    },
    {
      "cell_type": "markdown",
      "source": [
        "Text Wrap"
      ],
      "metadata": {
        "id": "gbVmQMXY8e50"
      }
    },
    {
      "cell_type": "code",
      "source": [
        "def wrap(string, max_width):\n",
        "    res = textwrap.fill(string , max_width)\n",
        "    return res\n",
        "\n"
      ],
      "metadata": {
        "id": "o9qbGIdM8k-k"
      },
      "execution_count": null,
      "outputs": []
    },
    {
      "cell_type": "markdown",
      "source": [
        "Text Allignment"
      ],
      "metadata": {
        "id": "pYDQapRU8lcR"
      }
    },
    {
      "cell_type": "code",
      "source": [
        "thickness = int(input()) #This must be an odd number\n",
        "c = 'H'\n",
        "\n",
        "#Top Cone\n",
        "for i in range(thickness):\n",
        "    print((c*i).rjust(thickness-1)+c+(c*i).ljust(thickness-1))\n",
        "\n",
        "#Top Pillars\n",
        "for i in range(thickness+1):\n",
        "    print((c*thickness).center(thickness*2)+(c*thickness).center(thickness*6))\n",
        "\n",
        "#Middle Belt\n",
        "for i in range((thickness+1)//2):\n",
        "    print((c*thickness*5).center(thickness*6))\n",
        "\n",
        "#Bottom Pillars\n",
        "for i in range(thickness+1):\n",
        "    print((c*thickness).center(thickness*2)+(c*thickness).center(thickness*6))\n",
        "\n",
        "#Bottom Cone\n",
        "for i in range(thickness):\n",
        "    print(((c*(thickness-i-1)).rjust(thickness)+c+(c*(thickness-i-1)).ljust(thickness)).rjust(thickness*6))\n"
      ],
      "metadata": {
        "id": "lIWokcEn8qfG"
      },
      "execution_count": null,
      "outputs": []
    },
    {
      "cell_type": "markdown",
      "source": [
        "String Validators"
      ],
      "metadata": {
        "id": "4OHxDMF18q5h"
      }
    },
    {
      "cell_type": "code",
      "source": [
        "if __name__ == '__main__':\n",
        "    s, res = input() , [False] * 5\n",
        "    for i in s:\n",
        "        if i.isalnum():\n",
        "            res[0] = True\n",
        "        if i.isalpha():\n",
        "            res[1] = True\n",
        "        if i.isdigit():\n",
        "            res[2] = True\n",
        "        if i.islower():\n",
        "            res[3] = True\n",
        "        if i.isupper():\n",
        "            res[4] = True\n",
        "    print(*res ,sep = '\\n')\n"
      ],
      "metadata": {
        "id": "Y-vgP4fc8vfA"
      },
      "execution_count": null,
      "outputs": []
    },
    {
      "cell_type": "markdown",
      "source": [
        "Find a string"
      ],
      "metadata": {
        "id": "25p3Bddy8v0O"
      }
    },
    {
      "cell_type": "code",
      "source": [
        "def count_substring(string, sub_string):\n",
        "    times = 0\n",
        "    for i in range(len(string) - len(sub_string) +1 ):\n",
        "        Check = True\n",
        "        for j in range(len(sub_string)):\n",
        "            if string[i+j] != sub_string[j]:\n",
        "                Check = False\n",
        "                break\n",
        "        times += (1 if Check else 0 )\n",
        "    return times\n",
        "\n"
      ],
      "metadata": {
        "id": "LpIhH_nM82R5"
      },
      "execution_count": null,
      "outputs": []
    },
    {
      "cell_type": "markdown",
      "source": [
        "Mutations"
      ],
      "metadata": {
        "id": "LOTNSERd82qY"
      }
    },
    {
      "cell_type": "code",
      "source": [
        "def mutate_string(string, position, character):\n",
        "    return string[:position] + character+string[position+1:]\n",
        "\n"
      ],
      "metadata": {
        "id": "pQuSqXGj86XQ"
      },
      "execution_count": null,
      "outputs": []
    },
    {
      "cell_type": "markdown",
      "source": [
        "What's Your Name?"
      ],
      "metadata": {
        "id": "E67PkW0088pW"
      }
    },
    {
      "cell_type": "code",
      "source": [
        "def print_full_name(first, last):\n",
        "    # Write your code here\n",
        "    print('Hello ' + first + \" \" +last+'! You just delved into python.')\n",
        "\n",
        "\n"
      ],
      "metadata": {
        "id": "WZdt5hr59DiB"
      },
      "execution_count": null,
      "outputs": []
    },
    {
      "cell_type": "markdown",
      "source": [
        "String Split and Join"
      ],
      "metadata": {
        "id": "hRM4uihI9Ivp"
      }
    },
    {
      "cell_type": "code",
      "source": [
        "def split_and_join(line):\n",
        "    # write your code here\n",
        "    return \"-\".join(line.split())\n",
        "\n",
        "if __name__ == '__main__':\n",
        "    line = input()\n",
        "    result = split_and_join(line)\n",
        "    print(result)\n"
      ],
      "metadata": {
        "id": "QXUPp5Jg9Lux"
      },
      "execution_count": null,
      "outputs": []
    },
    {
      "cell_type": "markdown",
      "source": [
        "sWAP cASE"
      ],
      "metadata": {
        "id": "2Wc3Euj89MCg"
      }
    },
    {
      "cell_type": "code",
      "source": [
        "def swap_case(s):\n",
        "    res = ''\n",
        "    for i in s:\n",
        "        res+= i.lower() if i.isupper() else i.upper()\n",
        "    return res\n",
        "\n"
      ],
      "metadata": {
        "id": "kSIeebc89Rcc"
      },
      "execution_count": null,
      "outputs": []
    },
    {
      "cell_type": "markdown",
      "source": [
        "List Comprehensions"
      ],
      "metadata": {
        "id": "LJ5XsAUU9SQq"
      }
    },
    {
      "cell_type": "code",
      "source": [
        "if __name__ == '__main__':\n",
        "    x = int(input())\n",
        "    y = int(input())\n",
        "    z = int(input())\n",
        "    n = int(input())\n",
        "coordinates = [[i, j, k] for i in range(x + 1)\n",
        "                              for j in range(y + 1)\n",
        "                              for k in range(z + 1)\n",
        "                              if (i + j + k) != n]\n",
        "print(coordinates)"
      ],
      "metadata": {
        "id": "UrP4uqks9X3P"
      },
      "execution_count": null,
      "outputs": []
    },
    {
      "cell_type": "markdown",
      "source": [
        "Tuples"
      ],
      "metadata": {
        "id": "Rb_uieU19YQi"
      }
    },
    {
      "cell_type": "code",
      "source": [
        "if __name__ == '__main__':\n",
        "    n = int(input())\n",
        "    l = tuple(map(int, input().split()))\n",
        "    tuple_hash = hash(l)\n",
        "    print(tuple_hash)\n"
      ],
      "metadata": {
        "id": "JDxAY97h9bTn"
      },
      "execution_count": null,
      "outputs": []
    },
    {
      "cell_type": "markdown",
      "source": [
        "Lists"
      ],
      "metadata": {
        "id": "zaxWHXUi9boG"
      }
    },
    {
      "cell_type": "code",
      "source": [
        "if __name__ == '__main__':\n",
        "    # Initialize an empty list\n",
        "    lst = []\n",
        "\n",
        "    # Read the number of commands\n",
        "    N = int(input())\n",
        "\n",
        "    # Loop through each command\n",
        "    for _ in range(N):\n",
        "        # Read the input command\n",
        "        command = input().split()\n",
        "\n",
        "        # Process the command\n",
        "        if command[0] == 'insert':\n",
        "            # Insert integer at position i\n",
        "            lst.insert(int(command[1]), int(command[2]))\n",
        "        elif command[0] == 'print':\n",
        "            # Print the list\n",
        "            print(lst)\n",
        "        elif command[0] == 'remove':\n",
        "            # Remove the first occurrence of integer e\n",
        "            lst.remove(int(command[1]))\n",
        "        elif command[0] == 'append':\n",
        "            # Append integer e to the end of the list\n",
        "            lst.append(int(command[1]))\n",
        "        elif command[0] == 'sort':\n",
        "            # Sort the list\n",
        "            lst.sort()\n",
        "        elif command[0] == 'pop':\n",
        "            # Pop the last element from the list\n",
        "            lst.pop()\n",
        "        elif command[0] == 'reverse':\n",
        "            # Reverse the list\n",
        "            lst.reverse()\n"
      ],
      "metadata": {
        "id": "CHjY9EOn9faC"
      },
      "execution_count": null,
      "outputs": []
    },
    {
      "cell_type": "markdown",
      "source": [
        "Array Mathematics"
      ],
      "metadata": {
        "id": "5xMoeAHF9f5c"
      }
    },
    {
      "cell_type": "code",
      "source": [
        "import numpy as np\n",
        "m, n = map(int, input().split())\n",
        "A = np.array([[x for x in input().split()] for _ in range(m)], int)\n",
        "B = np.array([[x for x in input().split()] for _ in range(m)], int)\n",
        "print(A+B)\n",
        "print(A-B)\n",
        "print(A*B)\n",
        "print(A//B)\n",
        "print(A%B)\n",
        "print(A**B)\n"
      ],
      "metadata": {
        "id": "vzpjabX19lIq"
      },
      "execution_count": null,
      "outputs": []
    },
    {
      "cell_type": "markdown",
      "source": [
        "Eye and Identity"
      ],
      "metadata": {
        "id": "myJ9l-Lx9lbU"
      }
    },
    {
      "cell_type": "code",
      "source": [
        "import numpy\n",
        "numpy.set_printoptions(legacy='1.13')\n",
        "N,M=list(map(int,input().split()))\n",
        "print(numpy.eye(N, M, k = 0))\n"
      ],
      "metadata": {
        "id": "MkLlu_xx9q2k"
      },
      "execution_count": null,
      "outputs": []
    },
    {
      "cell_type": "markdown",
      "source": [
        "Find the percentage"
      ],
      "metadata": {
        "id": "3z0cGpy99rOP"
      }
    },
    {
      "cell_type": "code",
      "source": [
        "if __name__ == '__main__':\n",
        "    n = int(input())\n",
        "    student_marks = {}\n",
        "    for _ in range(n):\n",
        "        name, *line = input().split()\n",
        "        scores = list(map(float, line))\n",
        "        student_marks[name] = scores\n",
        "    query_name = input()\n",
        "\n",
        "    print(\"%.2f\" % (sum(student_marks[query_name]) / len(student_marks[query_name])))"
      ],
      "metadata": {
        "id": "LT5ohd_G9wyc"
      },
      "execution_count": null,
      "outputs": []
    },
    {
      "cell_type": "markdown",
      "source": [
        "Nested Lists"
      ],
      "metadata": {
        "id": "9dwyQ1J_9xbN"
      }
    },
    {
      "cell_type": "code",
      "source": [
        "if __name__ == '__main__':\n",
        "  students = []\n",
        "  num_students = int(input())\n",
        "  for x in range(num_students):\n",
        "        name = input()\n",
        "        score = float(input())\n",
        "        students.append([name,score])\n",
        "  scores= sorted(set([score for name, score in students]))\n",
        "  if len(scores) < 2:\n",
        "        print(\"There is no second lowest grade.\")\n",
        "  else:\n",
        "        second_lowest_score = scores[1]\n",
        "        second_lowest_students = [name for name, score in students if score == second_lowest_score]\n",
        "        second_lowest_students.sort()\n",
        "\n",
        "        for student in second_lowest_students:\n",
        "            print(student)\n"
      ],
      "metadata": {
        "id": "qcI6IL5h92xL"
      },
      "execution_count": null,
      "outputs": []
    },
    {
      "cell_type": "markdown",
      "source": [
        "Find the Runner-Up Score!"
      ],
      "metadata": {
        "id": "QpYWbMLT93Tv"
      }
    },
    {
      "cell_type": "code",
      "source": [
        "if __name__ == '__main__':\n",
        "    n = int(input())\n",
        "    arr = map(int, input().split())\n",
        "arr_list=list(arr)\n",
        "clean_list=list(set(arr_list))\n",
        "clean_list.sort(reverse=True)\n",
        "print(clean_list[1])"
      ],
      "metadata": {
        "id": "4bI42mIi98-w"
      },
      "execution_count": null,
      "outputs": []
    },
    {
      "cell_type": "markdown",
      "source": [],
      "metadata": {
        "id": "rcbuMseF99WI"
      }
    }
  ]
}